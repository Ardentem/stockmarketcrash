{
 "cells": [
  {
   "cell_type": "code",
   "execution_count": 17,
   "metadata": {},
   "outputs": [],
   "source": [
    "import pandas as pd\n",
    "from tqdm import tqdm"
   ]
  },
  {
   "cell_type": "code",
   "execution_count": 3,
   "metadata": {},
   "outputs": [],
   "source": [
    "info = pd.read_excel('TRD_Co.xlsx',dtype={0:str})\n",
    "ret_ST = pd.read_excel('TRD_Week.xlsx',dtype={0:str})\n",
    "ret_notST1 = pd.read_excel('TRD_Week_1.xlsx',dtype={0:str})\n",
    "ret_notST2 = pd.read_excel('TRD_Week_2.xlsx',dtype={0:str})\n",
    "ret_notST3 = pd.read_excel('TRD_Week_3.xlsx',dtype={0:str})"
   ]
  },
  {
   "cell_type": "code",
   "execution_count": 19,
   "metadata": {},
   "outputs": [],
   "source": [
    "notST = pd.concat([ret_notST1,ret_notST2,ret_notST3])\n",
    "notST['isST'] = 0\n",
    "ret_ST['isST'] = 1\n",
    "data_all = pd.concat([notST,ret_ST])\n",
    "data_all.reset_index(inplace=True)\n",
    "data_all.drop('index',axis=1,inplace=True)"
   ]
  },
  {
   "cell_type": "code",
   "execution_count": 43,
   "metadata": {},
   "outputs": [],
   "source": [
    "data_all = pd.merge(info[['Stkcd','Listdt','Nnindcd']],data_all)"
   ]
  },
  {
   "cell_type": "code",
   "execution_count": 53,
   "metadata": {},
   "outputs": [],
   "source": [
    "ret_df = data_all.pivot(index='Trdwnt',columns='Stkcd',values='Wretwd')\n",
    "ret_df.reset_index().to_feather('ret.txt')\n",
    "cap_df = data_all.pivot(index='Trdwnt',columns='Stkcd',values='Wsmvosd')\n",
    "cap_df.reset_index().to_feather('cap.txt')"
   ]
  },
  {
   "cell_type": "code",
   "execution_count": 61,
   "metadata": {},
   "outputs": [],
   "source": [
    "info.to_feather('info.txt')"
   ]
  },
  {
   "cell_type": "code",
   "execution_count": 5,
   "metadata": {},
   "outputs": [],
   "source": [
    "MA1 = pd.read_excel('STK_MA_TRADINGMAIN.xlsx',dtype={1:str})\n",
    "MA2 = pd.read_excel('STK_MA_TRADINGMAIN(1).xlsx',dtype={1:str})\n",
    "MA3 = pd.read_excel('STK_MA_TRADINGMAIN(2).xlsx',dtype={1:str})\n",
    "MA4 = pd.read_excel('STK_MA_TRADINGMAIN(3).xlsx',dtype={1:str})"
   ]
  },
  {
   "cell_type": "code",
   "execution_count": 6,
   "metadata": {},
   "outputs": [],
   "source": [
    "MA_info = pd.concat([MA1,MA2,MA3,MA4])"
   ]
  },
  {
   "cell_type": "code",
   "execution_count": 15,
   "metadata": {},
   "outputs": [],
   "source": [
    "MA_info['year'] = [i[:4] for i in MA_info['FirstDeclareDate']]"
   ]
  },
  {
   "cell_type": "code",
   "execution_count": 18,
   "metadata": {},
   "outputs": [
    {
     "name": "stderr",
     "output_type": "stream",
     "text": [
      "100%|██████████| 20/20 [00:06<00:00,  3.15it/s]\n"
     ]
    }
   ],
   "source": [
    "MA_final = []\n",
    "for year,df in tqdm(MA_info.groupby('year')):\n",
    "    for code,df2 in df.groupby('Symbol'):\n",
    "        n = len(df2)\n",
    "        n_r = len(df2[df2['RelevanceSign'] == 'Y'])\n",
    "        MA_final.append([code,year,n,n_r])"
   ]
  },
  {
   "cell_type": "code",
   "execution_count": 21,
   "metadata": {},
   "outputs": [],
   "source": [
    "pd.DataFrame(MA_final,columns=['code','year','MA','MA_r']).to_feather('MA.txt')"
   ]
  }
 ],
 "metadata": {
  "kernelspec": {
   "display_name": "base",
   "language": "python",
   "name": "python3"
  },
  "language_info": {
   "codemirror_mode": {
    "name": "ipython",
    "version": 3
   },
   "file_extension": ".py",
   "mimetype": "text/x-python",
   "name": "python",
   "nbconvert_exporter": "python",
   "pygments_lexer": "ipython3",
   "version": "3.9.12"
  }
 },
 "nbformat": 4,
 "nbformat_minor": 2
}
